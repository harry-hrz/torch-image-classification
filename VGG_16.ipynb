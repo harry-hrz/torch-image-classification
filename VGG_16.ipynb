{
  "nbformat": 4,
  "nbformat_minor": 0,
  "metadata": {
    "colab": {
      "provenance": [],
      "authorship_tag": "ABX9TyPPrdfeyuSBKhcRpwcbGfAR",
      "include_colab_link": true
    },
    "kernelspec": {
      "name": "python3",
      "display_name": "Python 3"
    },
    "language_info": {
      "name": "python"
    },
    "accelerator": "GPU",
    "gpuClass": "premium"
  },
  "cells": [
    {
      "cell_type": "markdown",
      "metadata": {
        "id": "view-in-github",
        "colab_type": "text"
      },
      "source": [
        "<a href=\"https://colab.research.google.com/github/harry-hrz/torch-image-classification/blob/main/VGG_16.ipynb\" target=\"_parent\"><img src=\"https://colab.research.google.com/assets/colab-badge.svg\" alt=\"Open In Colab\"/></a>"
      ]
    },
    {
      "cell_type": "code",
      "execution_count": 1,
      "metadata": {
        "id": "BgZjICfnTEcZ"
      },
      "outputs": [],
      "source": [
        "import torch\n",
        "import numpy as np\n",
        "import torch.nn as nn\n",
        "import torch.utils.data as torchdata\n",
        "import torch.nn.functional as F\n",
        "import torchvision\n",
        "import torchvision.transforms as transforms\n",
        "import torch.optim as optim\n",
        "from tqdm import tqdm"
      ]
    },
    {
      "cell_type": "markdown",
      "source": [
        "## VGG"
      ],
      "metadata": {
        "id": "MFwRkl6iUnCe"
      }
    },
    {
      "cell_type": "code",
      "source": [
        "class VGG16(nn.Module):\n",
        "    def __init__(self, init_weights=True):\n",
        "        super(VGG16, self).__init__()\n",
        "        self.features = nn.Sequential(\n",
        "            nn.Conv2d(3, 64, 3, padding=1), \n",
        "            nn.ReLU(True), \n",
        "            nn.Conv2d(64, 64, 3, padding=1), \n",
        "            nn.ReLU(True), \n",
        "            nn.MaxPool2d(2,2), \n",
        "            nn.Conv2d(64, 128, 3, padding=1), \n",
        "            nn.ReLU(True), \n",
        "            nn.Conv2d(128, 128, 3, padding=1), \n",
        "            nn.ReLU(True), \n",
        "            nn.MaxPool2d(2, 2), \n",
        "            nn.Conv2d(128, 256, 3, padding=1), \n",
        "            nn.ReLU(True), \n",
        "            nn.Conv2d(256, 256, 3, padding=1), \n",
        "            nn.ReLU(True), \n",
        "            nn.MaxPool2d(2, 2), \n",
        "            nn.Conv2d(256, 512, 3, padding=1), \n",
        "            nn.ReLU(True), \n",
        "            nn.Conv2d(512, 512, 3, padding=1), \n",
        "            nn.ReLU(True), \n",
        "            nn.MaxPool2d(2, 2), \n",
        "            nn.Conv2d(512, 512, 3, padding=1), \n",
        "            nn.ReLU(True), \n",
        "            nn.Conv2d(512, 512, 3, padding=1), \n",
        "            nn.ReLU(True), \n",
        "            nn.MaxPool2d(2, 2), \n",
        "        )\n",
        "        self.classification = nn.Sequential(\n",
        "            nn.Linear(7*7*512, 4096), \n",
        "            nn.ReLU(True), \n",
        "            nn.Dropout(p=0.5), \n",
        "            nn.Linear(4096, 4096), \n",
        "            nn.ReLU(True), \n",
        "            nn.Dropout(p=0.5), \n",
        "            nn.Linear(4096, 10)\n",
        "        )\n",
        "        if init_weights == True:\n",
        "            self._initialize_weights()\n",
        "\n",
        "    def forward(self, x):\n",
        "        x = self.features(x)\n",
        "        x = torch.flatten(x, 1)\n",
        "        x = self.classification(x)\n",
        "        return x\n",
        "\n",
        "    def _initialize_weights(self):\n",
        "        for m in self.modules():\n",
        "            if isinstance(m, nn.Conv2d):\n",
        "                nn.init.kaiming_normal_(m.weight, mode='fan_out', nonlinearity='relu')\n",
        "                #nn.init.xavier_uniform_(m.weight)\n",
        "                if m.bias is not None:\n",
        "                    nn.init.constant_(m.bias, 0)\n",
        "            elif isinstance(m, nn.Linear):\n",
        "                #nn.init.xavier_uniform_(m.weight)\n",
        "                nn.init.normal_(m.weight, 0, 0.01)\n",
        "                nn.init.constant_(m.bias, 0)"
      ],
      "metadata": {
        "id": "djbFWf1TUNiN"
      },
      "execution_count": 6,
      "outputs": []
    },
    {
      "cell_type": "markdown",
      "source": [
        "## dataset"
      ],
      "metadata": {
        "id": "9glIZ-GNpTX3"
      }
    },
    {
      "cell_type": "code",
      "source": [
        "mean = (0.49139968, 0.48215827, 0.44653124)\n",
        "std = (0.24703233, 0.24348505, 0.26158768)\n",
        "data_transform = {\n",
        "    \"train\": transforms.Compose([\n",
        "        transforms.RandomResizedCrop(224), \n",
        "        transforms.RandomHorizontalFlip(), \n",
        "        transforms.ToTensor(), \n",
        "        transforms.Normalize(mean, std)\n",
        "                                 ]), \n",
        "    \"val\": transforms.Compose([\n",
        "        transforms.Resize((224, 224)), \n",
        "        transforms.ToTensor(), \n",
        "        transforms.Normalize(mean, std)\n",
        "        ])\n",
        "    }\n",
        "\n",
        "train_set = torchvision.datasets.CIFAR10(root='./data', train=True, transform=data_transform['train'], download=True)\n",
        "train_loader = torchdata.DataLoader(train_set, batch_size=64, shuffle=True)\n",
        "val_set = torchvision.datasets.CIFAR10(root='./data', train=False, transform=data_transform['val'], download=True)\n",
        "val_loader = torchdata.DataLoader(val_set, batch_size=128, shuffle=True)"
      ],
      "metadata": {
        "colab": {
          "base_uri": "https://localhost:8080/"
        },
        "id": "e3peYmk0pUVI",
        "outputId": "21c57561-a0b0-49e8-d1de-dbefe5c66395"
      },
      "execution_count": 5,
      "outputs": [
        {
          "output_type": "stream",
          "name": "stdout",
          "text": [
            "Files already downloaded and verified\n",
            "Files already downloaded and verified\n"
          ]
        }
      ]
    },
    {
      "cell_type": "markdown",
      "source": [
        "## train"
      ],
      "metadata": {
        "id": "o4i8D5aOxctd"
      }
    },
    {
      "cell_type": "code",
      "source": [
        "''' \n",
        "Note:   If you want to resize CIFAR10 to 3*224*224, it is fine for you to use both Adam and Adadelta.\n",
        "        But if you want to keep the orgininal size of CIFAR10, you should use Adadelta.\n",
        "        I personally think 32*32 is not a good fit for VGG.\n",
        "'''"
      ],
      "metadata": {
        "id": "TaMrJwjown0T"
      },
      "execution_count": null,
      "outputs": []
    },
    {
      "cell_type": "code",
      "source": [
        "device = torch.device(\"cuda:0\" if torch.cuda.is_available() else \"cpu\")\n",
        "print(\"using {} device.\".format(device))\n",
        "\n",
        "model = VGG16()\n",
        "model.to(device)\n",
        "loss_func = nn.CrossEntropyLoss()\n",
        "#optimizer = optim.Adadelta(model.parameters())\n",
        "optimizer = optim.Adam(model.parameters(), amsgrad=True)\n",
        "for epoch in range(30):\n",
        "    epoch_loss = 0.0\n",
        "    model.train()\n",
        "    step = 0\n",
        "    for data in tqdm(train_loader):\n",
        "        inputs, labels = data\n",
        "        optimizer.zero_grad()\n",
        "        outputs = model(inputs.to(device))\n",
        "        loss = loss_func(outputs, labels.to(device))\n",
        "        loss.backward()\n",
        "        optimizer.step()\n",
        "        epoch_loss += loss.item()\n",
        "        step += 1\n",
        "    \n",
        "    model.eval()\n",
        "    acc = 0.0\n",
        "    with torch.no_grad():\n",
        "        for data in tqdm(val_loader):\n",
        "            inputs, labels = data\n",
        "            outputs = model(inputs.to(device))\n",
        "            predict = torch.max(outputs, dim=1)[1]\n",
        "            acc += (predict == labels.to(device)).sum()\n",
        "        val_acc = acc / len(val_set)\n",
        "    print('epoch[%d], train_loss: %.3f, val_acc: %.3f' % (epoch+1, epoch_loss/step, val_acc))"
      ],
      "metadata": {
        "id": "k6nEjNv0xd_z"
      },
      "execution_count": null,
      "outputs": []
    }
  ]
}