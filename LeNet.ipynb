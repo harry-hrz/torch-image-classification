{
  "nbformat": 4,
  "nbformat_minor": 0,
  "metadata": {
    "colab": {
      "provenance": [],
      "authorship_tag": "ABX9TyOMiWM/8UpP8H1t4byIR+6d",
      "include_colab_link": true
    },
    "kernelspec": {
      "name": "python3",
      "display_name": "Python 3"
    },
    "language_info": {
      "name": "python"
    },
    "accelerator": "GPU",
    "gpuClass": "standard"
  },
  "cells": [
    {
      "cell_type": "markdown",
      "metadata": {
        "id": "view-in-github",
        "colab_type": "text"
      },
      "source": [
        "<a href=\"https://colab.research.google.com/github/harry-hrz/torch-image-classification/blob/main/LeNet.ipynb\" target=\"_parent\"><img src=\"https://colab.research.google.com/assets/colab-badge.svg\" alt=\"Open In Colab\"/></a>"
      ]
    },
    {
      "cell_type": "code",
      "execution_count": 18,
      "metadata": {
        "id": "FKK_0fnUhpDf"
      },
      "outputs": [],
      "source": [
        "import torch\n",
        "import numpy as np\n",
        "import torch.nn as nn\n",
        "import torchvision\n",
        "import torch.optim as optim\n",
        "import torchvision.transforms as transforms\n",
        "import torch.nn.functional as F\n",
        "import torch.utils.data as torchdata\n",
        "from tqdm import tqdm"
      ]
    },
    {
      "cell_type": "markdown",
      "source": [
        "## LeNet"
      ],
      "metadata": {
        "id": "yCY8KMfxjMnc"
      }
    },
    {
      "cell_type": "code",
      "source": [
        "class LeNet(nn.Module):\n",
        "    def __init__(self):\n",
        "        super(LeNet, self).__init__()\n",
        "        self.features = nn.Sequential(\n",
        "            nn.Conv2d(1, 6, 5), \n",
        "            nn.ReLU(), \n",
        "            nn.AvgPool2d(2, 2), \n",
        "            nn.Conv2d(6, 16, 5), \n",
        "            nn.ReLU(), \n",
        "            nn.AvgPool2d(2, 2), \n",
        "            nn.Conv2d(16, 120, 5), \n",
        "            nn.ReLU()\n",
        "        )\n",
        "        self.fc1 = nn.Linear(120*1*1, 84)\n",
        "        self.fc2 = nn.Linear(84, 10)\n",
        "    def forward(self, x):\n",
        "        x = self.features(x)\n",
        "        x = torch.flatten(x, 1)\n",
        "        x = F.relu(self.fc1(x))\n",
        "        x = self.fc2(x)\n",
        "        return x"
      ],
      "metadata": {
        "id": "VufjC75GicGm"
      },
      "execution_count": 35,
      "outputs": []
    },
    {
      "cell_type": "markdown",
      "source": [
        "## train"
      ],
      "metadata": {
        "id": "Xigb860hmCzO"
      }
    },
    {
      "cell_type": "code",
      "source": [
        "device = torch.device(\"cuda:0\" if torch.cuda.is_available() else \"cpu\")\n",
        "print(\"using {} device.\".format(device))\n",
        "\n",
        "transform = transforms.Compose([\n",
        "    transforms.Resize((32, 32)), \n",
        "    transforms.ToTensor(), \n",
        "    transforms.Normalize((0.1307), (0.3081))\n",
        "])\n",
        "train_set = torchvision.datasets.MNIST(train=True, transform=transform, download=True, root='./data')\n",
        "train_loader = torchdata.DataLoader(train_set, batch_size=64, shuffle=True, num_workers=0)\n",
        "\n",
        "val_set = torchvision.datasets.MNIST(train=False, transform=transform, download=True, root='./data')\n",
        "val_loader = torchdata.DataLoader(val_set, batch_size=10000, num_workers=0)\n",
        "val_data_iter = iter(val_loader)\n",
        "val_image, val_label = next(val_data_iter)\n",
        "\n",
        "model = LeNet()\n",
        "model.to(device)\n",
        "loss_func = nn.CrossEntropyLoss()\n",
        "optimizer = optim.Adam(model.parameters(), lr=10e-3)\n",
        "\n",
        "for epoch in range(10):\n",
        "    run_loss = 0.0\n",
        "    for step, data in tqdm(enumerate(train_loader)):\n",
        "        inputs, labels = data\n",
        "        optimizer.zero_grad()\n",
        "        outputs = model(inputs.to(device))\n",
        "        loss = loss_func(outputs, labels.to(device))\n",
        "        loss.backward()\n",
        "        optimizer.step()\n",
        "        run_loss += loss.item()\n",
        "    with torch.no_grad():\n",
        "        outputs = model(val_image.to(device))\n",
        "        predict = torch.max(outputs, dim=1)[1]\n",
        "        acc = (predict == val_label.to(device)).sum() / val_label.shape[0]\n",
        "    print('epoch[%d], train_loss: %.3f, val_acc: %.3f' % (epoch+1, run_loss/step, acc))\n",
        "print('Finished training')"
      ],
      "metadata": {
        "id": "k0E3S2d8mAdj"
      },
      "execution_count": null,
      "outputs": []
    }
  ]
}